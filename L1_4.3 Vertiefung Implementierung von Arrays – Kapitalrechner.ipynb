{
 "cells": [
  {
   "cell_type": "markdown",
   "metadata": {
    "nbgrader": {
     "grade": false,
     "grade_id": "cell-5116bba8efc8b3d1",
     "locked": true,
     "schema_version": 3,
     "solution": false,
     "task": false
    }
   },
   "source": [
    "# L1_4.3 Vertiefung Implementierung von Arrays  –  Kapitalrechner\n",
    "### Hinweis\n",
    "Beachten Sie zur Bearbeitung der nachfolgenden Problemstellung das Informationsmaterial\n",
    "* L1_2 Information_Array.docx\n",
    "\n",
    "## Problemstellung\n",
    "Die Mühlberger Bank hat ein lukratives Angebot für ihre Kunden. Bei einer Anlage von mehr als 50.000 € gewährt die Bank folgende Zinsstaffel:\n",
    "\n",
    "|||\n",
    "|:--|:---|\n",
    "|1. Jahr: |0,1%|\n",
    "|2. Jahr:| 0,2%|\n",
    "|3. Jahr: |0,3%|\n",
    "|4. Jahr:|0,3%|\n",
    "|5. Jahr: |0,3%|\n",
    "|6. Jahr: |0,4%|\n",
    "|7. Jahr: |0,4%|\n",
    "|8. Jahr: |0,5%|\n",
    "|9. Jahr: |1%|\n",
    "\n",
    "Die Anlagedauer ist flexibel, d. h. der Kunde kann sich für eine Anlagedauer von 1 – 9 Jahren entscheiden. Der Zinssatz wechselt laut Zinsstaffel während der Laufzeit (Jahr 1: 0,1 %, Jahr 2: 0,2 % usw.).\n",
    "Schreiben Sie ein Programm, das nach Eingabe des Anlagebetrags und der Laufzeit den Auszahlungsbetrag berechnet und ausgibt.\n",
    "\n",
    "## Problemanalyse\n",
    "### 1. Welche Ausgabedaten will man erhalten?"
   ]
  },
  {
   "cell_type": "markdown",
   "metadata": {
    "nbgrader": {
     "grade": true,
     "grade_id": "cell-54fb820edc9f1675",
     "locked": false,
     "points": 0,
     "schema_version": 3,
     "solution": true,
     "task": false
    }
   },
   "source": [
    "### BEGIN SOLUTION\n",
    "Auszahlungsbetrag\n",
    "### END SOLUTION"
   ]
  },
  {
   "cell_type": "markdown",
   "metadata": {
    "nbgrader": {
     "grade": false,
     "grade_id": "cell-391e0c4e7c81b01d",
     "locked": true,
     "schema_version": 3,
     "solution": false,
     "task": false
    }
   },
   "source": [
    "### 2. Welche Eingabedaten werden zur Bearbeitung benötigt?"
   ]
  },
  {
   "cell_type": "markdown",
   "metadata": {
    "nbgrader": {
     "grade": true,
     "grade_id": "cell-0cf1051a0d6a8b6b",
     "locked": false,
     "points": 0,
     "schema_version": 3,
     "solution": true,
     "task": false
    }
   },
   "source": [
    "### BEGIN SOLUTION\n",
    "Anlagebetrag, Anlagedauer\n",
    "### END SOLUTION"
   ]
  },
  {
   "cell_type": "markdown",
   "metadata": {
    "nbgrader": {
     "grade": false,
     "grade_id": "cell-3f22a8ed3878a67b",
     "locked": true,
     "schema_version": 3,
     "solution": false,
     "task": false
    }
   },
   "source": [
    "### 3. Welche Eigenschaften haben die Eingabe-, Verarbeitungs- und Ausgabedaten? (Variablenliste)"
   ]
  },
  {
   "cell_type": "markdown",
   "metadata": {
    "nbgrader": {
     "grade": true,
     "grade_id": "cell-f2cd5812c123010e",
     "locked": false,
     "points": 0,
     "schema_version": 3,
     "solution": true,
     "task": false
    }
   },
   "source": [
    "|Bedeutung|Typ/Struktur|Variable|\n",
    "|:----|:----|:----|\n",
    "|hier | schreiben| ...|\n",
    "### BEGIN SOLUTION\n",
    "|Auszahlungsbetrag/Anlagebetrag|Dezimalzahl|betrag|\n",
    "|Anlagedauer|Ganzzahl|laufzeit|\n",
    "|Zinssatz|Array|zinssatz|\n",
    "### END SOLUTION"
   ]
  },
  {
   "cell_type": "markdown",
   "metadata": {
    "nbgrader": {
     "grade": false,
     "grade_id": "cell-97fe87b48ac9d9d7",
     "locked": true,
     "schema_version": 3,
     "solution": false,
     "task": false
    }
   },
   "source": [
    "### 4.     (4) Gewünschter Ablauf des Programms mit Beispieldaten:\n",
    "\n",
    "|||\n",
    "|:---|:---|\n",
    "Betrag > 50.000 €\n",
    "|**Eingabe**|Geben Sie die gewünschte Laufzeit ein: 5<br> Geben Sie den gewünschten Anlagebetrag ein: 60000|\n",
    "|**Ausgabe**|Auszahlungsbetrag: 60723.36756810325 EUR|\n",
    "Betrag <= 50.000 €\n",
    "|**Eingabe**|Geben Sie die gewünschte Laufzeit ein: 5<br>Geben Sie den gewünschten Anlagebetrag ein: 50000|\n",
    "|**Ausgabe**|Der Anlagebetrag muss über 50.000 EUR sein!|\n",
    "\n",
    "## Programmcode"
   ]
  },
  {
   "cell_type": "code",
   "execution_count": null,
   "metadata": {
    "nbgrader": {
     "grade": false,
     "grade_id": "cell-4cc7cda23aa8a232",
     "locked": false,
     "schema_version": 3,
     "solution": true,
     "task": false
    }
   },
   "outputs": [],
   "source": [
    "### BEGIN SOLUTION\n",
    "zinssatz = [0.1, 0.2, 0.3, 0.3, 0.3, 0.4, 0.4, 0.5, 1]\n",
    "laufzeit = int(input(\"Geben Sie die gewünschte Laufzeit ein: \"))\n",
    "betrag = float(input(\"Geben Sie den gewünschten Anlagebetrag ein: \"))\n",
    "\n",
    "print(\"------------------------------------------\")\n",
    "\n",
    "if betrag > 50000:\n",
    "    for i in range(laufzeit):\n",
    "        betrag = betrag + betrag * zinssatz[i] / 100\n",
    "    print(\"Auszahlungsbetrag:\", betrag, \"EUR\")\n",
    "else:\n",
    "    print(\"Der Anlagebetrag muss über 50.000 EUR sein!\")\n",
    "### END SOLUTION"
   ]
  }
 ],
 "metadata": {
  "celltoolbar": "Create Assignment",
  "kernelspec": {
   "display_name": "Python 3",
   "language": "python",
   "name": "python3"
  },
  "language_info": {
   "codemirror_mode": {
    "name": "ipython",
    "version": 3
   },
   "file_extension": ".py",
   "mimetype": "text/x-python",
   "name": "python",
   "nbconvert_exporter": "python",
   "pygments_lexer": "ipython3",
   "version": "3.7.3"
  }
 },
 "nbformat": 4,
 "nbformat_minor": 4
}
