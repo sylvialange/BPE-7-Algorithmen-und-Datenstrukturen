{
 "cells": [
  {
   "cell_type": "markdown",
   "metadata": {
    "nbgrader": {
     "grade": false,
     "grade_id": "cell-19a6b9261172d05f",
     "locked": true,
     "schema_version": 3,
     "solution": false,
     "task": false
    }
   },
   "source": [
    "# L1_3.2 Implementierung von Arrays – Gewinnziehung\n",
    "## Problemstellung\n",
    "[Problemstellung per Video](https://vimeo.com/464674268)\n",
    "\n",
    "Der Mühlberger SC ist ein Sportverein mit mehreren Abteilungen. Im Jahr 2016 eröffnete der Mühlberger SC die Abteilung DART. Seit 2016 veranstaltet der Verein jährlich einen großen Darts-Event.\n",
    "Bei dem Dart-Event gibt es eine große Gewinnlotterie mit großartigen Sachpreisen. Dafür konnten sich Interessierte ein Los kaufen. Am Abend des Dart-Events findet die Ziehung der Gewinnerlose statt. Der Ziehungsleiter soll die Möglichkeit erhalten, die gezogenen Losnummern in einem Array zu speichern. Nachdem die fünf Losnummern mit Gewinnen gezogen worden sind, sollen sie ausgegeben werden.\n",
    "\n",
    "## Problemanalyse\n",
    "### 1\\. Welche Ausgabedaten will man erhalten?"
   ]
  },
  {
   "cell_type": "markdown",
   "metadata": {
    "nbgrader": {
     "grade": true,
     "grade_id": "cell-a5e19322a93064d3",
     "locked": false,
     "points": 0,
     "schema_version": 3,
     "solution": true,
     "task": false
    }
   },
   "source": [
    "### BEGIN SOLUTION\n",
    "die fünf Losnummern der Gewinner\n",
    "### END SOLUTION"
   ]
  },
  {
   "cell_type": "markdown",
   "metadata": {
    "nbgrader": {
     "grade": false,
     "grade_id": "cell-e1eba6e16f46ee64",
     "locked": true,
     "schema_version": 3,
     "solution": false,
     "task": false
    }
   },
   "source": [
    "### 2\\. Welche Eingabedaten werden zur Bearbeitung benötigt?"
   ]
  },
  {
   "cell_type": "markdown",
   "metadata": {
    "nbgrader": {
     "grade": true,
     "grade_id": "cell-639e346f639345c5",
     "locked": false,
     "points": 0,
     "schema_version": 3,
     "solution": true,
     "task": false
    }
   },
   "source": [
    "### BEGIN SOLUTION\n",
    "die fünf Losnummern\n",
    "### END SOLUTION"
   ]
  },
  {
   "cell_type": "markdown",
   "metadata": {
    "nbgrader": {
     "grade": false,
     "grade_id": "cell-37c82f6ccb8a4312",
     "locked": true,
     "schema_version": 3,
     "solution": false,
     "task": false
    }
   },
   "source": [
    "## Variablenliste\n",
    "### 3\\. Welche Eigenschaften haben die Eingabe-, Verarbeitungs- und Ausgabedaten? (Variablenliste)"
   ]
  },
  {
   "cell_type": "markdown",
   "metadata": {
    "nbgrader": {
     "grade": true,
     "grade_id": "cell-c14e09add86164b2",
     "locked": false,
     "points": 0,
     "schema_version": 3,
     "solution": true,
     "task": false
    }
   },
   "source": [
    "|Bedeutung|Typ/Struktur|Variable|\n",
    "|----|----|----|\n",
    "### BEGIN SOLUTION\n",
    "|Gezogene Gewinnlosnummer|Zeichenkette|nr|\n",
    "|Gewinnlosnummer|Array|losnummer|\n",
    "### END SOLUTION"
   ]
  },
  {
   "cell_type": "markdown",
   "metadata": {
    "nbgrader": {
     "grade": false,
     "grade_id": "cell-574ba0e091e68bad",
     "locked": true,
     "schema_version": 3,
     "solution": false,
     "task": false
    }
   },
   "source": [
    "### Gewünschter Ablauf des Programms mit Beispieldaten:\n",
    "|||\n",
    "|:---|:----|\n",
    "|Eingabe:|Gezogene Losnummer: 1234 <br> Gezogene Losnummer: 3334 <br> Gezogene Losnummer: 5592 <br> Gezogene Losnummer: 5634 <br> Gezogene Losnummer: 6782|\n",
    "|Ausgabe:|Gewinnlose:<br>1234 <br> 3334 <br> 5592 <br> 5634 <br> 6782|\n",
    "\n",
    "## Programmcode\n",
    "Vervollständigen Sie den vorliegenden Programmcode."
   ]
  },
  {
   "cell_type": "code",
   "execution_count": null,
   "metadata": {
    "nbgrader": {
     "grade": false,
     "grade_id": "cell-a4ea3a731a0b4bad",
     "locked": false,
     "schema_version": 3,
     "solution": true,
     "task": false
    }
   },
   "outputs": [],
   "source": [
    "#Initialisierung und Deklaration leeres Array\n",
    "losnummern = []\n",
    "\n",
    "#Einlesen von 5 Gewinnerlosen\n",
    "### BEGIN SOLUTION\n",
    "for i in range(5):\n",
    "    nr = input(\"Gezogene Losnummer: \")\n",
    "    losnummern.append(nr)\n",
    "### END SOLUTION\n",
    "\n",
    "\n",
    "#Ausgabe des Arrays\n",
    "### BEGIN SOLUTION\n",
    "print(\"---Gewinnlose---\")\n",
    "\n",
    "for i in range(5):\n",
    "    print(losnummern[i])\n",
    "### END SOLUTION\n"
   ]
  }
 ],
 "metadata": {
  "celltoolbar": "Create Assignment",
  "kernelspec": {
   "display_name": "Python 3",
   "language": "python",
   "name": "python3"
  },
  "language_info": {
   "codemirror_mode": {
    "name": "ipython",
    "version": 3
   },
   "file_extension": ".py",
   "mimetype": "text/x-python",
   "name": "python",
   "nbconvert_exporter": "python",
   "pygments_lexer": "ipython3",
   "version": "3.7.3"
  }
 },
 "nbformat": 4,
 "nbformat_minor": 4
}
