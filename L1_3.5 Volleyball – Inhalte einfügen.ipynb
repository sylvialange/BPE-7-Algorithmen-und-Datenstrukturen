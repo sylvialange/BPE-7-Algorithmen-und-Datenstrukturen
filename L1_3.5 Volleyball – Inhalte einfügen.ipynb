{
 "cells": [
  {
   "cell_type": "markdown",
   "metadata": {
    "nbgrader": {
     "grade": false,
     "grade_id": "cell-116ba31a95ed2b7c",
     "locked": true,
     "schema_version": 3,
     "solution": false,
     "task": false
    }
   },
   "source": [
    "# L1_3.5\tVolleyball – Inhalte einfügen\n",
    "\n",
    "### Hinweis\n",
    "* Beachten Sie zur Bearbeitung der nachfolgenden Problemstellung das Informationsmaterial L1_3.5 Information Elemente einfügen.docx\n",
    "* [Problemstellung per Video](https://vimeo.com/464737235)\n",
    "\n",
    "## Problemstellung\n",
    "Die Software des Trainers der Abteilung Volleyball des Sportvereines Mühlberger SC enthält ein Array mit allen Spielernamen des Mannschaftskaders. \n",
    "\n",
    "    kader =\t[\"Armin\", \"Batu\", \"Kai\", \"Sven\", \"Paul\", \"Milan\", \"Goran\", \"Chris\", \"Nico\", \n",
    "\t \"Dennis\", \"Emin\", \"Luca\"]\n",
    "\n",
    "Mit Hilfe der Software soll es möglich sein, an einer bestimmten Stelle einen weiteren Spielernamen einzutragen, z.B. an der Stelle mit dem Index 6.\n",
    "\n",
    "Implementieren Sie eine Funktion einfuegen_spieler(), mit der ein Spieler an einer vom Anwender einzugebenden Stelle, in das Array eingefügt wird.\n",
    "z. B.:\tSpielername: Tom - Index: 6\n",
    "Das Array kader soll danach folgenden Inhalt haben:\n",
    "\n",
    "\t[\"Armin\", \"Batu\", \"Kai\", \"Sven\", \"Paul\", \"Milan\", \"Tom\", \"Goran\", \"Chris\", \"Nico\", \n",
    "\t \"Dennis\", \"Emin\", \"Luca\"]\n",
    "     \n",
    "## Problemanalyse\n",
    "### 1. Welche Ausgabedaten will man erhalten?"
   ]
  },
  {
   "cell_type": "markdown",
   "metadata": {
    "nbgrader": {
     "grade": true,
     "grade_id": "cell-38a85a8f1c1b996b",
     "locked": false,
     "points": 0,
     "schema_version": 3,
     "solution": true,
     "task": false
    }
   },
   "source": [
    "### BEGIN SOLUTION\n",
    "Das neue Array mit dem eingefügten Spieler\n",
    "### END SOLUTION"
   ]
  },
  {
   "cell_type": "markdown",
   "metadata": {
    "nbgrader": {
     "grade": false,
     "grade_id": "cell-f19811f1ac41967c",
     "locked": true,
     "schema_version": 3,
     "solution": false,
     "task": false
    }
   },
   "source": [
    "### 2. Welche Eingabedaten werden zur Bearbeitung benötigt?"
   ]
  },
  {
   "cell_type": "markdown",
   "metadata": {
    "nbgrader": {
     "grade": true,
     "grade_id": "cell-51f62b6ec5693bb9",
     "locked": false,
     "points": 0,
     "schema_version": 3,
     "solution": true,
     "task": false
    }
   },
   "source": [
    "### BEGIN SOLUTION\n",
    "Position und Spielername\n",
    "### END SOLUTION"
   ]
  },
  {
   "cell_type": "markdown",
   "metadata": {
    "nbgrader": {
     "grade": false,
     "grade_id": "cell-beb0eca6e9979b4e",
     "locked": true,
     "schema_version": 3,
     "solution": false,
     "task": false
    }
   },
   "source": [
    "### 3. Welche Eigenschaften haben die Eingabe-, Verarbeitungs- und Ausgabedaten? (Variablenliste)"
   ]
  },
  {
   "cell_type": "markdown",
   "metadata": {
    "nbgrader": {
     "grade": true,
     "grade_id": "cell-2c07e400586102a6",
     "locked": false,
     "points": 0,
     "schema_version": 3,
     "solution": true,
     "task": false
    }
   },
   "source": [
    "|Bedeutung|Typ/Struktur|Variable|\n",
    "|:----|:----|:----|\n",
    "|hier | schreiben| ...|\n",
    "### BEGIN SOLUTION\n",
    "|Anzahl der Elemente des Arrays kader|Ganzzahl|laenge|\n",
    "|Index des neuen Eintrags|Ganzzahl|index|\n",
    "|Name des neuen Spielers|Zeichenkette|spielername|\n",
    "### END SOLUTION"
   ]
  },
  {
   "cell_type": "markdown",
   "metadata": {
    "nbgrader": {
     "grade": false,
     "grade_id": "cell-26a6af802cbb233d",
     "locked": true,
     "schema_version": 3,
     "solution": false,
     "task": false
    }
   },
   "source": [
    "### 4. Gewünschter Ablauf des Programms mit Beispieldaten\n",
    "\n",
    "|||\n",
    "|:---|:---|\n",
    "Funktion einfuegen_spieler()\n",
    "|**Eingabe:**|Spielername: Tom<br> Index: 6|\n",
    "|**Ausgabe:**| ------------------------<br> Kader <br> ------------------------ <br> Armin <br> Batu <br> Kai <br> Sven <br> Paul <br> Milan <br> Tom <br> Goran <br> Chris <br> Nico <br> Dennis <br> Emin <br> Luca| "
   ]
  },
  {
   "cell_type": "markdown",
   "metadata": {
    "nbgrader": {
     "grade": false,
     "grade_id": "cell-bafc9b9eda6d49ec",
     "locked": true,
     "schema_version": 3,
     "solution": false,
     "task": false
    }
   },
   "source": [
    "### 5. Verarbeitung\n",
    "Möglicherweise kennst du eine Funktion, die ganz easy diese Aufgabe übernimmt. Wir wollen hier aber die Kombination aus Umgang mit Arrays und **Schleifen** lernen.\n",
    "\n",
    "Deshalb wählen wir hier einen etwas komplizierten Weg:\n",
    "1. Füge Spielername am Ende des Arrays kader ein.\n",
    "2. Tausche den eingefügten Eintrag am Ende des Arrays kader (Index: len(kader) - 1) bis zur gewünschten Stelle (index) nach vorne.\n",
    "\n",
    "## Programmcode"
   ]
  },
  {
   "cell_type": "code",
   "execution_count": null,
   "metadata": {
    "nbgrader": {
     "grade": false,
     "grade_id": "cell-1bc043ceaabbdce2",
     "locked": false,
     "schema_version": 3,
     "solution": true,
     "task": false
    }
   },
   "outputs": [],
   "source": [
    "kader = [\"Armin\", \"Batu\", \"Kai\", \"Sven\", \"Paul\", \"Milan\", \"Goran\", \"Chris\",\"Nico\", \"Dennis\", \"Emin\", \"Luca\"]\n",
    "\n",
    "def zeige_kader():\n",
    "    print(\"------------------------\")\n",
    "    print(\"Kader\")\n",
    "    print(\"------------------------\")\n",
    "    for i in range(len(kader)):\n",
    "        print(i+1, \": \", kader[i])\n",
    "\n",
    "def einfuegen_spieler():\n",
    "### BEGIN SOLUTION\n",
    "    spielername = input(\"Spielername: \")\n",
    "    index = int(input(\"Index: \"))\n",
    "    \n",
    "    #Einfügen an letzter Stelle\n",
    "    kader.append(spielername)                              \n",
    "    \n",
    "    #Nach vorne wandern, bis an die richtige Position\n",
    "    for i in range(len(kader)-1, index,-1):    \n",
    "        zwischenspeicher = kader[i-1]\n",
    "        kader[i-1] = kader[i]\n",
    "        kader[i] = zwischenspeicher\n",
    "    \n",
    "    zeige_kader()\n",
    "### END SOLUTION\n",
    "#Funktionsaufruf\n",
    "zeige_kader()\n",
    "einfuegen_spieler()"
   ]
  }
 ],
 "metadata": {
  "celltoolbar": "Create Assignment",
  "kernelspec": {
   "display_name": "Python 3",
   "language": "python",
   "name": "python3"
  },
  "language_info": {
   "codemirror_mode": {
    "name": "ipython",
    "version": 3
   },
   "file_extension": ".py",
   "mimetype": "text/x-python",
   "name": "python",
   "nbconvert_exporter": "python",
   "pygments_lexer": "ipython3",
   "version": "3.7.3"
  }
 },
 "nbformat": 4,
 "nbformat_minor": 4
}
