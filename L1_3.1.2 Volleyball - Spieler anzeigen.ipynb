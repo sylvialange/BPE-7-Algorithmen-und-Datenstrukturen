{
 "cells": [
  {
   "cell_type": "markdown",
   "metadata": {
    "nbgrader": {
     "grade": false,
     "grade_id": "cell-1fba87c9f420d12e",
     "locked": true,
     "schema_version": 3,
     "solution": false,
     "task": false
    }
   },
   "source": [
    "# L1_3.1.2\tVolleyball: Spieler anzeigen\n",
    "## Problemstellung\n",
    "[Problemstellung per Video](https://vimeo.com/464673008)\n",
    "\n",
    "Die Abteilung Volleyball des Sportvereines Mühlberger SC besteht zurzeit aus 12 Spielern (=Kader). Die Namen der Stammspieler sind in dem Array spieler in der Reihenfolge ihrer Startpositionen erfasst.\n",
    "\n",
    "    spieler = [\"Armin\", \"Batu\", \"Kai\", \"Sven\", \"Paul\", \"Milan\"];\n",
    "Die Ersatzspieler sind im Array ersatz in alphabetischer Reihenfolge erfasst.\n",
    "\n",
    "    ersatz =  [\"Chris\", \"Dennis\", \"Emin\", \"Goran\", \"Luca\", \"Nico\"];\n",
    "Der Trainer der Mannschaft möchte eine Software, mit deren Hilfe er sich die Namen der Stammspieler, die der Ersatzspieler und die des gesamten Kaders anzeigen lassen kann. Der Co-Trainier hat bereits mit der Implementierung der Eingabe begonnen. Es steht nur noch die Implementierung der Funktionen aus.\n",
    "\n",
    "## Unvollständiger Code des Co-Trainers"
   ]
  },
  {
   "cell_type": "code",
   "execution_count": null,
   "metadata": {
    "nbgrader": {
     "grade": false,
     "grade_id": "cell-82237ef8571fbeab",
     "locked": false,
     "schema_version": 3,
     "solution": true,
     "task": false
    }
   },
   "outputs": [],
   "source": [
    "spieler = [\"Armin\", \"Batu\", \"Kai\", \"Sven\", \"Paul\", \"Milan\"]\n",
    "ersatz  = [\"Chris\", \"Dennis\", \"Emin\", \"Goran\", \"Luca\", \"Nico\"]\n",
    "\n",
    "print(\"(1) Startaufstellung anzeigen\")\n",
    "print(\"(2) Ersatzspieler anzeigen\")\n",
    "print(\"(3) Kader anzeigen\")\n",
    "\n",
    "anzeige = int(input(\"Anzeigewunsch (1-3): \"))\n",
    "\n",
    "def zeige_startaufstellung():\n",
    "    ### BEGIN SOLUTION\n",
    "    print(\"-----------------------\")\n",
    "    print(\"Startaufstellung\")\n",
    "    print(\"-----------------------\")\n",
    "    for i in range(len(spieler)):\n",
    "        print(spieler[i])\n",
    "    ### END SOLUTION\n",
    "def zeige_ersatzspieler():\n",
    "    ### BEGIN SOLUTION\n",
    "    print(\"-----------------------\")\n",
    "    print(\"Ersatzspieler\")\n",
    "    print(\"-----------------------\")\n",
    "    for i in range(len(ersatz)):\n",
    "        print(ersatz[i])\n",
    "    ### END SOLUTION\n",
    "    \n",
    "\n",
    "def zeige_kader():\n",
    "    ### BEGIN SOLUTION\n",
    "    kader = spieler + ersatz\n",
    "    print(\"-----------------------\")\n",
    "    print(\"Kader:\",)\n",
    "    print(\"-----------------------\")\n",
    "    for i in range(len(kader)):\n",
    "        print(kader[i])\n",
    "    ### END SOLUTION\n",
    "\n",
    "\n",
    "\n",
    "if anzeige == 1: zeige_startaufstellung()    \n",
    "\n",
    "elif anzeige == 2: zeige_ersatzspieler()   \n",
    "\n",
    "elif anzeige == 3: zeige_kader()"
   ]
  },
  {
   "cell_type": "markdown",
   "metadata": {
    "nbgrader": {
     "grade": false,
     "grade_id": "cell-e424e01ea528634a",
     "locked": true,
     "schema_version": 3,
     "solution": false,
     "task": false
    }
   },
   "source": [
    "## Aufgabe\n",
    "Implementieren Sie im unvollständigen Code oben die fehlenden Funktionen **zeige_startaufstellung()**, **zeige_ersatzspieler()** und **zeige_kader()**.\n",
    "\n",
    "Der Kader sind die Spieler und die Ersatzspieler zusammen.\n",
    "\n",
    "### Gewünsche Ausgabe\n",
    "    --------------------\n",
    "    - Startaufstellung -\n",
    "    --------------------\n",
    "    Armin Batu Kai Sven Paul Milan\n",
    "Es sollen natürlich wieder keine Klammern angezeigt werden.\n",
    "\n",
    "### Hinweis\n",
    "Die Inhalte mehrerer Arrays lassen mit folgender Anweisung einfach zu einem Array zusammenfügen:\n",
    "\n",
    "    arrayNeu = array1 + array2"
   ]
  }
 ],
 "metadata": {
  "celltoolbar": "Create Assignment",
  "kernelspec": {
   "display_name": "Python 3",
   "language": "python",
   "name": "python3"
  },
  "language_info": {
   "codemirror_mode": {
    "name": "ipython",
    "version": 3
   },
   "file_extension": ".py",
   "mimetype": "text/x-python",
   "name": "python",
   "nbconvert_exporter": "python",
   "pygments_lexer": "ipython3",
   "version": "3.7.3"
  }
 },
 "nbformat": 4,
 "nbformat_minor": 4
}
