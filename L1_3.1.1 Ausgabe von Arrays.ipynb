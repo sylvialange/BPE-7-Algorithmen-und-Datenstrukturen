{
 "cells": [
  {
   "cell_type": "markdown",
   "metadata": {
    "nbgrader": {
     "grade": false,
     "grade_id": "cell-6893f5e93d7a77b2",
     "locked": true,
     "schema_version": 3,
     "solution": false,
     "task": false
    }
   },
   "source": [
    "# L1_3.1.1 Ausgabe von Arrays – Vereinsmeisterschaften\n",
    "Der Mühlberger SC ist ein Sportverein mit mehreren Abteilungen. Im\n",
    "Jahr 2016 eröffnete der Mühlberger SC die Abteilung DART. Seit dem\n",
    "Jahr 2017 finden auch Vereinsmeisterschaften statt.\n",
    "\n",
    "**Hinweis:**\n",
    "* Beachten Sie zur Bearbeitung der nachfolgenden Problemstellung das Informationsmaterial L1_2 Information_Array.docx.\n",
    "\n",
    "\n",
    "* [Aufgabenstellung per Video](https://vimeo.com/464672876)\n",
    "\n",
    "## Problemstellung\n",
    "Die Vereinsmeisterschaft in diesem Jahr war ein großer Erfolg. Die Spieler lieferten sich einen spannenden Wettkampf vor vielen Zuschauern. Der Mühlberger SC möchte die Ergebnisse des Wettkampfs. Der Mühlberger SC möchte die Ergebnisse des Wettkampfs veröffentlichen. Nutzer sollen die Möglichkeit haben, sich an einem Computer eine Platzierung ausgeben zu lassen. Möchte der Nutzer den Erstplatzierten ausgegeben bekommen, muss er bspw. eine „1“ eingeben. Außerdem soll die Teilnehmerzahl angezeigt werden. Die Teilnehmer an der Meisterschaft sind in dem Array platzierungen in der Reihenfolge ihrer Platzierung gespeichert.\n",
    "\n",
    "## Problemanalyse\n",
    "### 1. Welche Ausgabedaten will man erhalten?"
   ]
  },
  {
   "cell_type": "markdown",
   "metadata": {
    "nbgrader": {
     "grade": true,
     "grade_id": "cell-7676bc7881b3b8df",
     "locked": false,
     "points": 0,
     "schema_version": 3,
     "solution": true,
     "task": false
    }
   },
   "source": [
    "### BEGIN SOLUTION\n",
    "Name des Teilnehmers auf deinem bestimmten Platz, Teilnehmeranzahl\n",
    "### END SOLUTION"
   ]
  },
  {
   "cell_type": "markdown",
   "metadata": {
    "nbgrader": {
     "grade": false,
     "grade_id": "cell-a30f4637145757d7",
     "locked": true,
     "schema_version": 3,
     "solution": false,
     "task": false
    }
   },
   "source": [
    "### 2. Welche Eingabedaten werden zur Bearbeitung benötigt?"
   ]
  },
  {
   "cell_type": "markdown",
   "metadata": {
    "nbgrader": {
     "grade": true,
     "grade_id": "cell-b41e56db6569ba35",
     "locked": false,
     "points": 0,
     "schema_version": 3,
     "solution": true,
     "task": false
    }
   },
   "source": [
    "### BEGIN SOLUTION\n",
    "Ziffer der Platzierung\n",
    "### END SOLUTION"
   ]
  },
  {
   "cell_type": "markdown",
   "metadata": {
    "nbgrader": {
     "grade": false,
     "grade_id": "cell-3754b0dcbcf663db",
     "locked": true,
     "schema_version": 3,
     "solution": false,
     "task": false
    }
   },
   "source": [
    "### 3. Welche Eigenschaften haben die Eingabe-, Verarbeitungs- und Ausgabedaten? (Variablenliste)"
   ]
  },
  {
   "cell_type": "markdown",
   "metadata": {
    "nbgrader": {
     "grade": true,
     "grade_id": "cell-4e4576e933000d11",
     "locked": false,
     "points": 0,
     "schema_version": 3,
     "solution": true,
     "task": false
    }
   },
   "source": [
    "|Bedeutung| Typ/Struktur| Variable/Größe|\n",
    "|---|---|---|\n",
    "|Teilnehmer (gegeben)|Array|platzierung|\n",
    "### BEGIN SOLUTION\n",
    "|Teilnehmeranzahl|Ganzzahl|len(platzierung)|\n",
    "### END SOLUTION"
   ]
  },
  {
   "cell_type": "markdown",
   "metadata": {
    "nbgrader": {
     "grade": false,
     "grade_id": "cell-d353549a2c95a881",
     "locked": true,
     "schema_version": 3,
     "solution": false,
     "task": false
    }
   },
   "source": [
    "## Gewünschter Ablauf des Programms mit Beispieldaten\n",
    "\n",
    "|Eingabe|Welche Platzierung soll ausgegeben werden? 2|\n",
    "|:----|:----|\n",
    "|Ausgabe|Platzierung 2:  Felix Holzmann <br> Teilnehmerzahl: 8|"
   ]
  },
  {
   "cell_type": "markdown",
   "metadata": {
    "nbgrader": {
     "grade": false,
     "grade_id": "cell-04905a9007f41b11",
     "locked": true,
     "schema_version": 3,
     "solution": false,
     "task": false
    }
   },
   "source": [
    "## Programmcode"
   ]
  },
  {
   "cell_type": "code",
   "execution_count": null,
   "metadata": {
    "nbgrader": {
     "grade": false,
     "grade_id": "cell-ba446243c1bc5eb5",
     "locked": false,
     "schema_version": 3,
     "solution": true,
     "task": false
    }
   },
   "outputs": [],
   "source": [
    "platzierungen = [\"Matthias Schmitt\", \"Felix Holzmann\", \"Sabrina Eggers\"\n",
    "                 , \"Sebastian Wolf\", \"Niklas Eisenbaum\", \"Florian Kuster\", \n",
    "                 \"Jan Ackerman\", \"Erika Ebersbacher\"]\n",
    "### BEGIN SOLUTION\n",
    "platz = int(input(\"Welche Platzierung soll ausgegeben werden (1-8)? \"))\n",
    "\n",
    "print(\"Platzierung\", platz, \":\", platzierungen[platz-1])\n",
    "print(\"Teilnehmeranzahl:\", len(platzierungen))\n",
    "### END SOLUTION"
   ]
  }
 ],
 "metadata": {
  "celltoolbar": "Create Assignment",
  "kernelspec": {
   "display_name": "Python 3",
   "language": "python",
   "name": "python3"
  },
  "language_info": {
   "codemirror_mode": {
    "name": "ipython",
    "version": 3
   },
   "file_extension": ".py",
   "mimetype": "text/x-python",
   "name": "python",
   "nbconvert_exporter": "python",
   "pygments_lexer": "ipython3",
   "version": "3.7.3"
  }
 },
 "nbformat": 4,
 "nbformat_minor": 4
}
