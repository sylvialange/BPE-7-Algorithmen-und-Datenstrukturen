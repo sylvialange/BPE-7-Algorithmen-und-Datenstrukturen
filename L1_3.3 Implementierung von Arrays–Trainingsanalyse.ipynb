{
 "cells": [
  {
   "cell_type": "markdown",
   "metadata": {
    "nbgrader": {
     "grade": false,
     "grade_id": "cell-d5df3d2d006a0f52",
     "locked": true,
     "schema_version": 3,
     "solution": false,
     "task": false
    }
   },
   "source": [
    "# 1_3.3 Implementierung von Arrays – Trainingsanalyse\n",
    "### Hinweis\n",
    "* Beachten Sie zur Bearbeitung der nachfolgenden Problemstellung das Informationsmaterial L1_2 Information_Array.docx\n",
    "* [Erklärung der Problemstellung per Video](https://vimeo.com/464675940)\n",
    "\n",
    "## Problemstellung\n",
    "Im Training für die Vereinsmeisterschaften wirft jeder Dartspieler 6 Pfeile auf die Dartscheibe bevor der nächste Dartspieler an der Reihe ist. Sie sollen ein Programm schreiben, das aufgrund der 6 geworfenen Pfeile eine Analyse durchführt. \n",
    "Es sollen folgende Angaben in der Konsole ausgegeben werden: **Höchste Punktzahl, niedrigste Punktzahl** und die **durchschnittliche Punktzahl**. Die Eingaben der Wurfergebnisse erfolgten ebenfalls über die Konsole (Bei einem Wurf sind maximal 60 Punkte erreichbar.)\n",
    "\n",
    "## Problemanalyse\n",
    "### 1. Welche Ausgabedaten will man erhalten?"
   ]
  },
  {
   "cell_type": "markdown",
   "metadata": {
    "nbgrader": {
     "grade": true,
     "grade_id": "cell-2fd8b4d230ab2011",
     "locked": false,
     "points": 0,
     "schema_version": 3,
     "solution": true,
     "task": false
    }
   },
   "source": [
    "### BEGIN SOLUTION\n",
    "maximale, minimale Punktzahl. Durchschnitt der Punktzahlen\n",
    "### END SOLUTION"
   ]
  },
  {
   "cell_type": "markdown",
   "metadata": {
    "nbgrader": {
     "grade": false,
     "grade_id": "cell-b6f5445df71c12b3",
     "locked": true,
     "schema_version": 3,
     "solution": false,
     "task": false
    }
   },
   "source": [
    "### 2. Welche Eingabedaten werden zur Bearbeitung benötigt?"
   ]
  },
  {
   "cell_type": "markdown",
   "metadata": {
    "nbgrader": {
     "grade": true,
     "grade_id": "cell-7ca3377b453dc15a",
     "locked": false,
     "points": 0,
     "schema_version": 3,
     "solution": true,
     "task": false
    }
   },
   "source": [
    "### BEGIN SOLUTION\n",
    "die 6 Punktzahlen\n",
    "### END SOLUTION"
   ]
  },
  {
   "cell_type": "markdown",
   "metadata": {
    "nbgrader": {
     "grade": false,
     "grade_id": "cell-f40189e05ef3661d",
     "locked": true,
     "schema_version": 3,
     "solution": false,
     "task": false
    }
   },
   "source": [
    "### 3. Welche Eigenschaften haben die Eingabe-, Verarbeitungs- und Ausgabedaten? (Variablenliste)"
   ]
  },
  {
   "cell_type": "markdown",
   "metadata": {
    "nbgrader": {
     "grade": true,
     "grade_id": "cell-8347a058cfaf8b7f",
     "locked": false,
     "points": 0,
     "schema_version": 3,
     "solution": true,
     "task": false
    }
   },
   "source": [
    "|Bedeutung|Typ/Struktur|Variable|\n",
    "|----|----|----|\n",
    "|hier | schreiben| ...|\n",
    "### BEGIN SOLUTION\n",
    "|Punktzahlen|Integer-Array| punkte|\n",
    "|minimale Punktzahl|Integer| min|\n",
    "|maximale Punktzahl|Integer|max|\n",
    "|Durchschnitt| Double| schnitt|\n",
    "### END SOLUTION"
   ]
  },
  {
   "cell_type": "markdown",
   "metadata": {
    "nbgrader": {
     "grade": false,
     "grade_id": "cell-0a4b72b03f3761e5",
     "locked": true,
     "schema_version": 3,
     "solution": false,
     "task": false
    }
   },
   "source": [
    "### 4. Gewünschter Ablauf mit Beispieldaten:\n",
    "|||||\n",
    "|:----|:---|:---|:----|\n",
    "|**Eingabe:**|Wurf 1: 5 <br> Wurf 2: 40 <br> Wurf 3: 3 <br> Wurf 4: 60 <br> Wurf 5: 20 <br> Wurf 6: 10|**Ausgabe:**|Bester Wurf: 60<br>Schlechtester Wurf: 3<br> Durchschnitt: 23.0|\n",
    "\n",
    "## Programmcode"
   ]
  },
  {
   "cell_type": "code",
   "execution_count": null,
   "metadata": {
    "nbgrader": {
     "grade": false,
     "grade_id": "cell-dab068123ea023d6",
     "locked": false,
     "schema_version": 3,
     "solution": true,
     "task": false
    }
   },
   "outputs": [],
   "source": [
    "### BEGIN SOLUTION\n",
    "print(\"Geben Sie Ihre Punktzahlen ein: \")\n",
    "punkte=[]\n",
    "min = 60\n",
    "max = 0\n",
    "for i in range(6):\n",
    "    punkte.append(int(input(\"Wurf \"+str(i+1)+\": \")))\n",
    "min = 60\n",
    "max = 0\n",
    "sum = 0\n",
    "for i in range(6):\n",
    "    if punkte[i]< min:\n",
    "        min = punkte[i]\n",
    "    if punkte[i]>max:\n",
    "        max = punkte[i]\n",
    "    sum += punkte[i]\n",
    "schnitt = sum*1.0 / 6\n",
    "print(\"Bester Wurf: \", max)\n",
    "print(\"Schlechtester Wurf: \", min)\n",
    "print(\"Durchschnitt: \", schnitt)\n",
    "### END SOLUTION"
   ]
  }
 ],
 "metadata": {
  "celltoolbar": "Create Assignment",
  "kernelspec": {
   "display_name": "Python 3",
   "language": "python",
   "name": "python3"
  },
  "language_info": {
   "codemirror_mode": {
    "name": "ipython",
    "version": 3
   },
   "file_extension": ".py",
   "mimetype": "text/x-python",
   "name": "python",
   "nbconvert_exporter": "python",
   "pygments_lexer": "ipython3",
   "version": "3.7.3"
  }
 },
 "nbformat": 4,
 "nbformat_minor": 4
}
